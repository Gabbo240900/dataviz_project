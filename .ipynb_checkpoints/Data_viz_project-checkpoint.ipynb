{
 "cells": [
  {
   "cell_type": "markdown",
   "id": "01ffa786-c9e9-4c08-a79d-da4bd655af15",
   "metadata": {},
   "source": [
    "# Data visualization project"
   ]
  },
  {
   "cell_type": "markdown",
   "id": "06b44949-9173-4b2a-b4e7-60e136bbe4d4",
   "metadata": {},
   "source": [
    "#### Gabriele Di Palma, Francesco Di Stefano, Francesco Tramontano"
   ]
  },
  {
   "cell_type": "markdown",
   "id": "80ea0fb1-d144-4b26-86f5-ea184110b335",
   "metadata": {},
   "source": [
    "Import all fundamental libraries"
   ]
  },
  {
   "cell_type": "code",
   "execution_count": 2,
   "id": "bc38f664-806a-4b83-95c1-db9791c20445",
   "metadata": {},
   "outputs": [],
   "source": [
    "import pandas as pd"
   ]
  },
  {
   "cell_type": "markdown",
   "id": "26787776-c121-4892-b9ab-7bd51bbb6747",
   "metadata": {},
   "source": [
    "Read Dataset"
   ]
  },
  {
   "cell_type": "code",
   "execution_count": 9,
   "id": "6f4f031d-3eb1-4543-91e8-2cffc2110bd5",
   "metadata": {},
   "outputs": [],
   "source": [
    "df_airplanes = pd.read_csv('International_Report_Departures.csv')"
   ]
  },
  {
   "cell_type": "markdown",
   "id": "09600865-5f72-42a2-a215-dfecdde6d822",
   "metadata": {},
   "source": [
    "Quick look at dataset "
   ]
  },
  {
   "cell_type": "code",
   "execution_count": 10,
   "id": "e6e28f72-3671-42dd-8bb7-38491ef43d9d",
   "metadata": {},
   "outputs": [
    {
     "data": {
      "text/html": [
       "<div>\n",
       "<style scoped>\n",
       "    .dataframe tbody tr th:only-of-type {\n",
       "        vertical-align: middle;\n",
       "    }\n",
       "\n",
       "    .dataframe tbody tr th {\n",
       "        vertical-align: top;\n",
       "    }\n",
       "\n",
       "    .dataframe thead th {\n",
       "        text-align: right;\n",
       "    }\n",
       "</style>\n",
       "<table border=\"1\" class=\"dataframe\">\n",
       "  <thead>\n",
       "    <tr style=\"text-align: right;\">\n",
       "      <th></th>\n",
       "      <th>data_dte</th>\n",
       "      <th>Year</th>\n",
       "      <th>Month</th>\n",
       "      <th>usg_apt_id</th>\n",
       "      <th>usg_apt</th>\n",
       "      <th>usg_wac</th>\n",
       "      <th>fg_apt_id</th>\n",
       "      <th>fg_apt</th>\n",
       "      <th>fg_wac</th>\n",
       "      <th>airlineid</th>\n",
       "      <th>carrier</th>\n",
       "      <th>carriergroup</th>\n",
       "      <th>type</th>\n",
       "      <th>Scheduled</th>\n",
       "      <th>Charter</th>\n",
       "      <th>Total</th>\n",
       "    </tr>\n",
       "  </thead>\n",
       "  <tbody>\n",
       "    <tr>\n",
       "      <th>0</th>\n",
       "      <td>05/01/2006</td>\n",
       "      <td>2006</td>\n",
       "      <td>5</td>\n",
       "      <td>12016</td>\n",
       "      <td>GUM</td>\n",
       "      <td>5</td>\n",
       "      <td>13162</td>\n",
       "      <td>MAJ</td>\n",
       "      <td>844</td>\n",
       "      <td>20177</td>\n",
       "      <td>PFQ</td>\n",
       "      <td>1</td>\n",
       "      <td>Departures</td>\n",
       "      <td>0</td>\n",
       "      <td>10</td>\n",
       "      <td>10</td>\n",
       "    </tr>\n",
       "    <tr>\n",
       "      <th>1</th>\n",
       "      <td>05/01/2003</td>\n",
       "      <td>2003</td>\n",
       "      <td>5</td>\n",
       "      <td>10299</td>\n",
       "      <td>ANC</td>\n",
       "      <td>1</td>\n",
       "      <td>13856</td>\n",
       "      <td>OKO</td>\n",
       "      <td>736</td>\n",
       "      <td>20007</td>\n",
       "      <td>5Y</td>\n",
       "      <td>1</td>\n",
       "      <td>Departures</td>\n",
       "      <td>0</td>\n",
       "      <td>15</td>\n",
       "      <td>15</td>\n",
       "    </tr>\n",
       "    <tr>\n",
       "      <th>2</th>\n",
       "      <td>03/01/2007</td>\n",
       "      <td>2007</td>\n",
       "      <td>3</td>\n",
       "      <td>10721</td>\n",
       "      <td>BOS</td>\n",
       "      <td>13</td>\n",
       "      <td>12651</td>\n",
       "      <td>KEF</td>\n",
       "      <td>439</td>\n",
       "      <td>20402</td>\n",
       "      <td>GL</td>\n",
       "      <td>1</td>\n",
       "      <td>Departures</td>\n",
       "      <td>0</td>\n",
       "      <td>1</td>\n",
       "      <td>1</td>\n",
       "    </tr>\n",
       "    <tr>\n",
       "      <th>3</th>\n",
       "      <td>12/01/2004</td>\n",
       "      <td>2004</td>\n",
       "      <td>12</td>\n",
       "      <td>11259</td>\n",
       "      <td>DAL</td>\n",
       "      <td>74</td>\n",
       "      <td>16271</td>\n",
       "      <td>YYZ</td>\n",
       "      <td>936</td>\n",
       "      <td>20201</td>\n",
       "      <td>AMQ</td>\n",
       "      <td>1</td>\n",
       "      <td>Departures</td>\n",
       "      <td>0</td>\n",
       "      <td>1</td>\n",
       "      <td>1</td>\n",
       "    </tr>\n",
       "    <tr>\n",
       "      <th>4</th>\n",
       "      <td>05/01/2009</td>\n",
       "      <td>2009</td>\n",
       "      <td>5</td>\n",
       "      <td>13303</td>\n",
       "      <td>MIA</td>\n",
       "      <td>33</td>\n",
       "      <td>11075</td>\n",
       "      <td>CMW</td>\n",
       "      <td>219</td>\n",
       "      <td>21323</td>\n",
       "      <td>5L</td>\n",
       "      <td>0</td>\n",
       "      <td>Departures</td>\n",
       "      <td>0</td>\n",
       "      <td>20</td>\n",
       "      <td>20</td>\n",
       "    </tr>\n",
       "  </tbody>\n",
       "</table>\n",
       "</div>"
      ],
      "text/plain": [
       "     data_dte  Year  Month  usg_apt_id usg_apt  usg_wac  fg_apt_id fg_apt  \\\n",
       "0  05/01/2006  2006      5       12016     GUM        5      13162    MAJ   \n",
       "1  05/01/2003  2003      5       10299     ANC        1      13856    OKO   \n",
       "2  03/01/2007  2007      3       10721     BOS       13      12651    KEF   \n",
       "3  12/01/2004  2004     12       11259     DAL       74      16271    YYZ   \n",
       "4  05/01/2009  2009      5       13303     MIA       33      11075    CMW   \n",
       "\n",
       "   fg_wac  airlineid carrier  carriergroup        type  Scheduled  Charter  \\\n",
       "0     844      20177     PFQ             1  Departures          0       10   \n",
       "1     736      20007      5Y             1  Departures          0       15   \n",
       "2     439      20402      GL             1  Departures          0        1   \n",
       "3     936      20201     AMQ             1  Departures          0        1   \n",
       "4     219      21323      5L             0  Departures          0       20   \n",
       "\n",
       "   Total  \n",
       "0     10  \n",
       "1     15  \n",
       "2      1  \n",
       "3      1  \n",
       "4     20  "
      ]
     },
     "execution_count": 10,
     "metadata": {},
     "output_type": "execute_result"
    }
   ],
   "source": [
    "df_airplanes.head()"
   ]
  },
  {
   "cell_type": "markdown",
   "id": "1417bbd6-487b-430f-bc66-db6d458b9667",
   "metadata": {},
   "source": [
    "In the dataset we have 16 columns ..... "
   ]
  },
  {
   "cell_type": "markdown",
   "id": "1e6de123-033c-4314-be05-0d3aa710d5ae",
   "metadata": {},
   "source": [
    "Data cleaning"
   ]
  },
  {
   "cell_type": "code",
   "execution_count": null,
   "id": "dade912e-4ee6-4e37-830e-308af3056d2e",
   "metadata": {},
   "outputs": [],
   "source": []
  }
 ],
 "metadata": {
  "kernelspec": {
   "display_name": "datavis",
   "language": "python",
   "name": "datavis"
  },
  "language_info": {
   "codemirror_mode": {
    "name": "ipython",
    "version": 3
   },
   "file_extension": ".py",
   "mimetype": "text/x-python",
   "name": "python",
   "nbconvert_exporter": "python",
   "pygments_lexer": "ipython3",
   "version": "3.8.13"
  }
 },
 "nbformat": 4,
 "nbformat_minor": 5
}
